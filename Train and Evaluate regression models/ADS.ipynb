{
 "cells": [
  {
   "cell_type": "raw",
   "id": "7af83dd8",
   "metadata": {},
   "source": [
    "df = pd.read_csv(\"TrainAndValid.csv\",\n",
    "                 low_memory=False,\n",
    "                 parse_dates=[\"saledate\"])\n",
    "df.head().T\n"
   ]
  },
  {
   "cell_type": "raw",
   "id": "9ddffa92",
   "metadata": {},
   "source": [
    "df.shape"
   ]
  },
  {
   "cell_type": "raw",
   "id": "7a495bc7",
   "metadata": {},
   "source": [
    "df.columns"
   ]
  },
  {
   "cell_type": "raw",
   "id": "4b88e268",
   "metadata": {},
   "source": [
    "df.isna().sum()"
   ]
  },
  {
   "cell_type": "raw",
   "id": "b120724d",
   "metadata": {},
   "source": [
    "# sort\n",
    "\n",
    "df.sort_values(by=[\"saledate\"],inplace=True,ascending=True)\n",
    "df[\"saledate\"].tail(20)\n"
   ]
  },
  {
   "cell_type": "raw",
   "id": "f6b492fb",
   "metadata": {},
   "source": [
    "### Feature engineering\n",
    "\n",
    "1. Copy of the original dataset\n",
    "\n",
    "df_tmp = df.copy\n",
    "\n",
    "2. Extract \n",
    "df_tmp[\"saleYear\"] = df_tmp.saledate.dt.year\n",
    "df_tmp[\"saleMonth\"] = df_tmp.saledate.dt.momth\n",
    "df_tmp[\"saleDay\"] = df_tmp.saledate.dt.day\n",
    "df_tmp[\"saleDayofWeek\"] = df_tmp.saledate.dt.dayofweek\n",
    "df_tmp['saleDayOfYear'] = df_tmp.saledata.dt.dayofyear\n",
    "\n",
    "df_tmp.head().T\n"
   ]
  },
  {
   "cell_type": "raw",
   "id": "f857bbe6",
   "metadata": {},
   "source": [
    "# drop the sale date culumn\n",
    "df_tmp.drop(\"saledate\",axis=1,inplace=True)"
   ]
  },
  {
   "cell_type": "raw",
   "id": "c09037e2",
   "metadata": {},
   "source": [
    "# unique values\n",
    "df_tmp.state.value_counts()\n"
   ]
  },
  {
   "cell_type": "raw",
   "id": "c9f9fdf9",
   "metadata": {},
   "source": [
    "### Data Preparation"
   ]
  },
  {
   "cell_type": "raw",
   "id": "7c3b05ed",
   "metadata": {},
   "source": [
    "df_tmp.info()"
   ]
  },
  {
   "cell_type": "raw",
   "id": "50e93e16",
   "metadata": {},
   "source": [
    "df_tmp.columns"
   ]
  },
  {
   "cell_type": "raw",
   "id": "142adba0",
   "metadata": {},
   "source": [
    "#string\n",
    "# UsageBand\n",
    "pd.api.types.is_string_dtype(df_tmp[\"UsageBand\"])\n"
   ]
  },
  {
   "cell_type": "raw",
   "id": "568f9637",
   "metadata": {},
   "source": [
    "# for loop\n",
    "for label,content in df_tmp.items():\n",
    "    if pd.api.type.is_string_dtype(content):\n",
    "        print(label)"
   ]
  },
  {
   "cell_type": "raw",
   "id": "3a1998ac",
   "metadata": {},
   "source": [
    "# convert the strings to categories\n",
    "for label,content in df_tmp.items():\n",
    "    if pd.api.types.is_string_dtype(content):\n",
    "        df_tmp[label] = content.astype(\"category\").cat.as_ordered()"
   ]
  },
  {
   "cell_type": "raw",
   "id": "165ba5b6",
   "metadata": {},
   "source": [
    "df_tmp.info()"
   ]
  },
  {
   "cell_type": "raw",
   "id": "c9e1dc1e",
   "metadata": {},
   "source": [
    "# exporting\n",
    "df_tmp.to_csv(\"train_tmp.csv\",index=False)"
   ]
  },
  {
   "cell_type": "raw",
   "id": "656d12d8",
   "metadata": {},
   "source": [
    "# import preprocessed data\n",
    "df_tmp = pd.read_cv(\"train_tmp.csv\",low_memory=False)\n",
    "df_tmp.head().T"
   ]
  },
  {
   "cell_type": "raw",
   "id": "9322dcc3",
   "metadata": {},
   "source": [
    "# Missing values\n",
    "df_tmp.isna().sum()"
   ]
  },
  {
   "cell_type": "raw",
   "id": "86ec32b5",
   "metadata": {},
   "source": [
    "# check numeric values\n",
    "for label, content in df_tmp.items():\n",
    "    if pd.api.types.is_numeric_dtype(content):\n",
    "        print(label)"
   ]
  },
  {
   "cell_type": "raw",
   "id": "c12beb2b",
   "metadata": {},
   "source": [
    "# check for those with missing values\n",
    "for label,content in df_tmp.items():\n",
    "    if pd.api.types.is_numeric_dtype(content):\n",
    "        if pd.isnull(content).sum():\n",
    "            print(label)"
   ]
  },
  {
   "cell_type": "raw",
   "id": "281861a6",
   "metadata": {},
   "source": [
    "for label,content in df_tmp.items():\n",
    "    if pd.api.types.is_numeric_dtype(content):\n",
    "        if pd.isnull(content).sum():\n",
    "            df_tmp[label+\"_is_missing\"] = pd.isnull(content)\n",
    "            df_tmp[label] = content.fillna(content.median())"
   ]
  },
  {
   "cell_type": "raw",
   "id": "9dd5be51",
   "metadata": {},
   "source": [
    "df_tmp.head()\n"
   ]
  },
  {
   "cell_type": "raw",
   "id": "fddc4358",
   "metadata": {},
   "source": [
    "df_tmp.auctioneerID.isna().sum()"
   ]
  },
  {
   "cell_type": "raw",
   "id": "9d25c235",
   "metadata": {},
   "source": [
    "# identify categorical \n",
    "for label, content in df_tmp.items():\n",
    "    if not pd.api.types.is_numeric_dtype(content):\n",
    "        print(label)"
   ]
  },
  {
   "cell_type": "raw",
   "id": "6f8ce7a1",
   "metadata": {},
   "source": [
    "pd.Categorical(df_temp[\"Hydraulics_Flow\"]).codes"
   ]
  },
  {
   "cell_type": "raw",
   "id": "8fe09a84",
   "metadata": {},
   "source": [
    "for label, content in df_tmp.items():\n",
    "    if not pd.api.types.is_numeric_dtype(content):\n",
    "        df_tmp[label+\"_is_missing\"] = pd.isnull(content)\n",
    "        df_tmp[label] = pd.Categorical(content).codes+1\n"
   ]
  },
  {
   "cell_type": "raw",
   "id": "9aebf164",
   "metadata": {},
   "source": [
    "%%time\n",
    "# importing the model\n",
    "from sklearn.ensemble import RandomForestRegressor\n",
    "\n",
    "# instantiate the model\n",
    "model = RandomForestRegressor(n_jobs = -1,random_state=42)\n",
    "\n",
    "# Fit the model\n",
    "model.fit(df_tmp.drop('SalePrice',axis = 1),df_tmp['SalePrice'])"
   ]
  },
  {
   "cell_type": "raw",
   "id": "a9671d77",
   "metadata": {},
   "source": [
    "# score the model\n",
    "\n",
    "model.score(df_tmp.drop('SalePrice',axis = 1),df_tmp['SalePrice'])"
   ]
  },
  {
   "cell_type": "raw",
   "id": "e93af21a",
   "metadata": {},
   "source": [
    "# Split data into training and validation set\n",
    "\n",
    "df_val = df_tmp[df_tmp.saleYear == 2012]\n",
    "df_train = df_tmp[df_tmp.saleYear != 2012]\n",
    "\n",
    "len(df_val),len(df_train)"
   ]
  },
  {
   "cell_type": "raw",
   "id": "1b772fe0",
   "metadata": {},
   "source": [
    "X_train,y_train = df_train.drop(\"SalePrice\",axis = 1),df_train.SalePrice\n",
    "\n",
    "X_valid,y_valid = df_val.drop(\"SalePrice\",axis = 1),df_val.SalePrice\n",
    "\n",
    "X_train.shape,y_train.shape,x_valid.shape,y_valid.shape"
   ]
  },
  {
   "cell_type": "raw",
   "id": "c045a11f",
   "metadata": {},
   "source": [
    "# create an evaluation fix\n",
    "\n",
    "from sklearn.metric import mean_squared_log_error,mean_absolute_error,r2_score\n",
    "\n",
    "# predict x_test,evaluate y_test\n",
    "def rmsle(y_test,y_preds):\n",
    "    # true labels - predicted labels = distance\n",
    "    return np.sqrt(mean_square_log_error(y_test,y_preds))\n",
    "def show_score(model):\n",
    "    train_preds = model.predict(X_train)\n",
    "    valid_preds = model.predict(X_valid)\n",
    "    \n",
    "    scores = {\"Training MAE\":mean_absolute_error(y_train,train_preds),\n",
    "             \"Valid MAE\":mean_absolute_error(y_valid,val_preds),\n",
    "             \"Training RMSLE\":rmsle(y_train,train_preds),\n",
    "             \"Valid RMSLE\": rmsle(y_valid,val_preds),\n",
    "             \"Training Required\":r2_score(y_valid,val_preds)}\n",
    "    return scores\n"
   ]
  },
  {
   "cell_type": "raw",
   "id": "c53376b1",
   "metadata": {},
   "source": [
    "# change max samples value\n",
    "\n",
    "model = RandomForestRegressor(n_jobs = -1,random_state = 42,min_sample_leaf = 10000)\n",
    "# from sklearn searchCV"
   ]
  },
  {
   "cell_type": "raw",
   "id": "41724943",
   "metadata": {},
   "source": [
    "%time\n",
    "model.fit(X_train,y_train)"
   ]
  },
  {
   "cell_type": "raw",
   "id": "87956062",
   "metadata": {},
   "source": [
    "show_scores(model)"
   ]
  },
  {
   "cell_type": "markdown",
   "id": "803cb926",
   "metadata": {},
   "source": [
    "#### Hyperparameter tuning\n"
   ]
  },
  {
   "cell_type": "raw",
   "id": "51b531d9",
   "metadata": {},
   "source": [
    "%time \n",
    "from skleaern.model_selection import RandomizedSearchCV\n",
    "\n",
    "rf_grid = {\"n_estimators\":np.arange(10,100,10),\n",
    "          \"max_depth\":[None,3,5,10],\n",
    "          \"min_sample_split\": np.arange(2,20,2),\n",
    "          \"min_sample_leaf\": np.arange(1,20,2),\n",
    "          \"max_features\": [0.5,1,\"sqrt\",\"auto\"]}\n",
    "\n",
    "# Instantiate the model\n",
    "rs_model = RandomizedSearchCV(RandomForestRegressor(n_jobs = -1,random_state = 42),\n",
    "                                                   para_distribution = rf_grid,n_iter = 2,\n",
    "                                                   cv = 2, verbose = True)\n",
    "\n",
    "# fit the model\n",
    "rs_model.fit(X_train,y_train)"
   ]
  },
  {
   "cell_type": "raw",
   "id": "8d35af78",
   "metadata": {},
   "source": [
    "# find the best parameters\n",
    "\n",
    "rs_model.best_params_"
   ]
  },
  {
   "cell_type": "raw",
   "id": "53dcd054",
   "metadata": {},
   "source": [
    "#### Ideal Model\n",
    "\n",
    "ideal_model = RandomForestRegressor(n_estimators = 50,\n",
    "                                   min_samples_split = 4,\n",
    "                                   max_samples_leaf = 17,\n",
    "                                   max_features = 0.5,max_depth = None )\n",
    "\n",
    "# fit the model\n",
    "ideal_model.fit(X_train,y_train)"
   ]
  },
  {
   "cell_type": "raw",
   "id": "fe15aad1",
   "metadata": {},
   "source": [
    "show_scores(ideal_model)"
   ]
  },
  {
   "cell_type": "code",
   "execution_count": null,
   "id": "4055f79b",
   "metadata": {},
   "outputs": [],
   "source": [
    "# Read the dataset\n",
    "# Data preparation(data preprocessing)\n",
    "- categories, missing values,\n",
    "- convert every category into numerical type\n",
    "\n",
    "# "
   ]
  }
 ],
 "metadata": {
  "kernelspec": {
   "display_name": "Python 3",
   "language": "python",
   "name": "python3"
  },
  "language_info": {
   "codemirror_mode": {
    "name": "ipython",
    "version": 3
   },
   "file_extension": ".py",
   "mimetype": "text/x-python",
   "name": "python",
   "nbconvert_exporter": "python",
   "pygments_lexer": "ipython3",
   "version": "3.8.8"
  }
 },
 "nbformat": 4,
 "nbformat_minor": 5
}
