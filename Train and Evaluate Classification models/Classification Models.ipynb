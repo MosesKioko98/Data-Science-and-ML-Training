{
 "cells": [
  {
   "cell_type": "markdown",
   "id": "8ad03671",
   "metadata": {},
   "source": [
    "Clssification is a form of machine learning in which you train a model to predict which category an item belongs to.\n",
    "\n",
    "Binary classification is a classification with two categories.\n",
    "\n",
    "Classification is an example of a supervised machine learning technique,it relies on data that includes known feature values as well as known label values.\n",
    "\n",
    "A classification algorithm is used to fit a suset of data to a function that can calculate the probalility for each class label from the feature values.\n",
    "The remaining data is used to evaluate the model by comparing the predictions it generates from the features to the features to the class labels.\n",
    "\n",
    "One function to use is a logistic function, which forms a sigmoidal(S-shaped) curve."
   ]
  },
  {
   "cell_type": "markdown",
   "id": "70179da7",
   "metadata": {},
   "source": [
    "## Train and evaluate a classification model"
   ]
  },
  {
   "cell_type": "markdown",
   "id": "0c3543c2",
   "metadata": {},
   "source": [
    "### Binary Classification"
   ]
  },
  {
   "cell_type": "markdown",
   "id": "e698ba73",
   "metadata": {},
   "source": [
    "#### Exlpore the data"
   ]
  },
  {
   "cell_type": "code",
   "execution_count": 2,
   "id": "e5e77f72",
   "metadata": {},
   "outputs": [
    {
     "data": {
      "text/html": [
       "<div>\n",
       "<style scoped>\n",
       "    .dataframe tbody tr th:only-of-type {\n",
       "        vertical-align: middle;\n",
       "    }\n",
       "\n",
       "    .dataframe tbody tr th {\n",
       "        vertical-align: top;\n",
       "    }\n",
       "\n",
       "    .dataframe thead th {\n",
       "        text-align: right;\n",
       "    }\n",
       "</style>\n",
       "<table border=\"1\" class=\"dataframe\">\n",
       "  <thead>\n",
       "    <tr style=\"text-align: right;\">\n",
       "      <th></th>\n",
       "      <th>PatientID</th>\n",
       "      <th>Pregnancies</th>\n",
       "      <th>PlasmaGlucose</th>\n",
       "      <th>DiastolicBloodPressure</th>\n",
       "      <th>TricepsThickness</th>\n",
       "      <th>SerumInsulin</th>\n",
       "      <th>BMI</th>\n",
       "      <th>DiabetesPedigree</th>\n",
       "      <th>Age</th>\n",
       "      <th>Diabetic</th>\n",
       "    </tr>\n",
       "  </thead>\n",
       "  <tbody>\n",
       "    <tr>\n",
       "      <th>0</th>\n",
       "      <td>1354778</td>\n",
       "      <td>0</td>\n",
       "      <td>171</td>\n",
       "      <td>80</td>\n",
       "      <td>34</td>\n",
       "      <td>23</td>\n",
       "      <td>43.509726</td>\n",
       "      <td>1.213191</td>\n",
       "      <td>21</td>\n",
       "      <td>0</td>\n",
       "    </tr>\n",
       "    <tr>\n",
       "      <th>1</th>\n",
       "      <td>1147438</td>\n",
       "      <td>8</td>\n",
       "      <td>92</td>\n",
       "      <td>93</td>\n",
       "      <td>47</td>\n",
       "      <td>36</td>\n",
       "      <td>21.240576</td>\n",
       "      <td>0.158365</td>\n",
       "      <td>23</td>\n",
       "      <td>0</td>\n",
       "    </tr>\n",
       "    <tr>\n",
       "      <th>2</th>\n",
       "      <td>1640031</td>\n",
       "      <td>7</td>\n",
       "      <td>115</td>\n",
       "      <td>47</td>\n",
       "      <td>52</td>\n",
       "      <td>35</td>\n",
       "      <td>41.511523</td>\n",
       "      <td>0.079019</td>\n",
       "      <td>23</td>\n",
       "      <td>0</td>\n",
       "    </tr>\n",
       "    <tr>\n",
       "      <th>3</th>\n",
       "      <td>1883350</td>\n",
       "      <td>9</td>\n",
       "      <td>103</td>\n",
       "      <td>78</td>\n",
       "      <td>25</td>\n",
       "      <td>304</td>\n",
       "      <td>29.582192</td>\n",
       "      <td>1.282870</td>\n",
       "      <td>43</td>\n",
       "      <td>1</td>\n",
       "    </tr>\n",
       "    <tr>\n",
       "      <th>4</th>\n",
       "      <td>1424119</td>\n",
       "      <td>1</td>\n",
       "      <td>85</td>\n",
       "      <td>59</td>\n",
       "      <td>27</td>\n",
       "      <td>35</td>\n",
       "      <td>42.604536</td>\n",
       "      <td>0.549542</td>\n",
       "      <td>22</td>\n",
       "      <td>0</td>\n",
       "    </tr>\n",
       "  </tbody>\n",
       "</table>\n",
       "</div>"
      ],
      "text/plain": [
       "   PatientID  Pregnancies  PlasmaGlucose  DiastolicBloodPressure  \\\n",
       "0    1354778            0            171                      80   \n",
       "1    1147438            8             92                      93   \n",
       "2    1640031            7            115                      47   \n",
       "3    1883350            9            103                      78   \n",
       "4    1424119            1             85                      59   \n",
       "\n",
       "   TricepsThickness  SerumInsulin        BMI  DiabetesPedigree  Age  Diabetic  \n",
       "0                34            23  43.509726          1.213191   21         0  \n",
       "1                47            36  21.240576          0.158365   23         0  \n",
       "2                52            35  41.511523          0.079019   23         0  \n",
       "3                25           304  29.582192          1.282870   43         1  \n",
       "4                27            35  42.604536          0.549542   22         0  "
      ]
     },
     "execution_count": 2,
     "metadata": {},
     "output_type": "execute_result"
    }
   ],
   "source": [
    "import pandas as pd\n",
    "\n",
    "# Loading the dataset\n",
    "diabetes = pd.read_csv('diabetes.csv')\n",
    "diabetes.head()"
   ]
  },
  {
   "cell_type": "code",
   "execution_count": 3,
   "id": "c4b03aa4",
   "metadata": {},
   "outputs": [
    {
     "name": "stdout",
     "output_type": "stream",
     "text": [
      "Patients 1 \n",
      " Features: [0.0, 171.0, 80.0, 34.0, 23.0, 43.50972593, 1.213191354, 21.0] \n",
      " Label: [0]\n",
      "Patients 2 \n",
      " Features: [8.0, 92.0, 93.0, 47.0, 36.0, 21.24057571, 0.158364981, 23.0] \n",
      " Label: [0]\n",
      "Patients 3 \n",
      " Features: [7.0, 115.0, 47.0, 52.0, 35.0, 41.51152348, 0.079018568, 23.0] \n",
      " Label: [0]\n",
      "Patients 4 \n",
      " Features: [9.0, 103.0, 78.0, 25.0, 304.0, 29.58219193, 1.282869847, 43.0] \n",
      " Label: [1]\n"
     ]
    }
   ],
   "source": [
    "# Separate the features from labels\n",
    "\n",
    "features = ['Pregnancies','PlasmaGlucose','DiastolicBloodPressure','TricepsThickness','SerumInsulin','BMI','DiabetesPedigree','Age']\n",
    "label = ['Diabetic']\n",
    "\n",
    "X,y = diabetes[features].values,diabetes[label].values\n",
    "\n",
    "\n",
    "for n in range(0,4):\n",
    "    print(\"Patients\",str(n+1),\"\\n Features:\",list(X[n]),\"\\n Label:\",y[n])"
   ]
  },
  {
   "cell_type": "code",
   "execution_count": 4,
   "id": "44fd4130",
   "metadata": {},
   "outputs": [
    {
     "data": {
      "text/plain": [
       "PatientID                 0\n",
       "Pregnancies               0\n",
       "PlasmaGlucose             0\n",
       "DiastolicBloodPressure    0\n",
       "TricepsThickness          0\n",
       "SerumInsulin              0\n",
       "BMI                       0\n",
       "DiabetesPedigree          0\n",
       "Age                       0\n",
       "Diabetic                  0\n",
       "dtype: int64"
      ]
     },
     "execution_count": 4,
     "metadata": {},
     "output_type": "execute_result"
    }
   ],
   "source": [
    "diabetes.isnull().sum()"
   ]
  },
  {
   "cell_type": "code",
   "execution_count": 5,
   "id": "b6797d18",
   "metadata": {},
   "outputs": [
    {
     "name": "stdout",
     "output_type": "stream",
     "text": [
      "<class 'pandas.core.frame.DataFrame'>\n",
      "RangeIndex: 15000 entries, 0 to 14999\n",
      "Data columns (total 10 columns):\n",
      " #   Column                  Non-Null Count  Dtype  \n",
      "---  ------                  --------------  -----  \n",
      " 0   PatientID               15000 non-null  int64  \n",
      " 1   Pregnancies             15000 non-null  int64  \n",
      " 2   PlasmaGlucose           15000 non-null  int64  \n",
      " 3   DiastolicBloodPressure  15000 non-null  int64  \n",
      " 4   TricepsThickness        15000 non-null  int64  \n",
      " 5   SerumInsulin            15000 non-null  int64  \n",
      " 6   BMI                     15000 non-null  float64\n",
      " 7   DiabetesPedigree        15000 non-null  float64\n",
      " 8   Age                     15000 non-null  int64  \n",
      " 9   Diabetic                15000 non-null  int64  \n",
      "dtypes: float64(2), int64(8)\n",
      "memory usage: 1.1 MB\n"
     ]
    }
   ],
   "source": [
    "diabetes.info()"
   ]
  },
  {
   "cell_type": "code",
   "execution_count": 6,
   "id": "a3ea0173",
   "metadata": {},
   "outputs": [
    {
     "data": {
      "image/png": "[encoded data removed]",
      "text/plain": [
       "<Figure size 432x432 with 1 Axes>"
      ]
     },
     "metadata": {
      "needs_background": "light"
     },
     "output_type": "display_data"
    },
    {
     "data": {
      "image/png": "[encoded data removed]",
      "text/plain": [
       "<Figure size 432x432 with 1 Axes>"
      ]
     },
     "metadata": {
      "needs_background": "light"
     },
     "output_type": "display_data"
    },
    {
     "data": {
      "image/png": "[encoded data removed]",
      "text/plain": [
       "<Figure size 432x432 with 1 Axes>"
      ]
     },
     "metadata": {
      "needs_background": "light"
     },
     "output_type": "display_data"
    },
    {
     "data": {
      "image/png": "[encoded data removed]",
      "text/plain": [
       "<Figure size 432x432 with 1 Axes>"
      ]
     },
     "metadata": {
      "needs_background": "light"
     },
     "output_type": "display_data"
    },
    {
     "data": {
      "image/png": "[encoded data removed]",
      "text/plain": [
       "<Figure size 432x432 with 1 Axes>"
      ]
     },
     "metadata": {
      "needs_background": "light"
     },
     "output_type": "display_data"
    },
    {
     "data": {
      "image/png": "[encoded data removed]",
      "text/plain": [
       "<Figure size 432x432 with 1 Axes>"
      ]
     },
     "metadata": {
      "needs_background": "light"
     },
     "output_type": "display_data"
    },
    {
     "data": {
      "image/png": "[encoded data removed]",
      "text/plain": [
       "<Figure size 432x432 with 1 Axes>"
      ]
     },
     "metadata": {
      "needs_background": "light"
     },
     "output_type": "display_data"
    },
    {
     "data": {
      "image/png": "[encoded data removed]",
      "text/plain": [
       "<Figure size 432x432 with 1 Axes>"
      ]
     },
     "metadata": {
      "needs_background": "light"
     },
     "output_type": "display_data"
    }
   ],
   "source": [
    "# Lets compare the feature distribution for each label value\n",
    "\n",
    "from matplotlib import pyplot as plt\n",
    "\n",
    "features = features = ['Pregnancies','PlasmaGlucose','DiastolicBloodPressure','TricepsThickness','SerumInsulin','BMI','DiabetesPedigree','Age']\n",
    "for col in features:\n",
    "    diabetes.boxplot(column=col,by = 'Diabetic', figsize=(6,6))\n",
    "    plt.title(col)\n",
    "plt.show()"
   ]
  },
  {
   "cell_type": "markdown",
   "id": "f350b3c7",
   "metadata": {},
   "source": [
    "Pregnancies and Age show markedly differentt distributions for diabetic patients than for non-diabetic patients.These feature may hep predict whether or not a patient is diabetic"
   ]
  },
  {
   "cell_type": "markdown",
   "id": "97d8be4e",
   "metadata": {},
   "source": [
    "### Split the data\n",
    "\n",
    "Scikit-Learn has train_test_split functiin that ensures we get a **statistically random split**\n",
    "of training and test data. \n",
    "\n",
    "We will use that to split the data into 70% for training and hold back 30% for testing."
   ]
  },
  {
   "cell_type": "code",
   "execution_count": 7,
   "id": "ab19c993",
   "metadata": {},
   "outputs": [
    {
     "name": "stdout",
     "output_type": "stream",
     "text": [
      "Training cases: 10500\n",
      "Test cases: 4500\n"
     ]
    }
   ],
   "source": [
    "from sklearn.model_selection import train_test_split\n",
    "\n",
    "# Split data 70%-30% into training and test set\n",
    "X_train,X_test,y_train,y_test = train_test_split(X,y,test_size=0.30,random_state=0)\n",
    "\n",
    "print('Training cases: %d\\nTest cases: %d' %(X_train.shape[0],X_test.shape[0]))"
   ]
  },
  {
   "cell_type": "markdown",
   "id": "46098d88",
   "metadata": {},
   "source": [
    "### Train and Evaluate a Binary Classification Model\n",
    "\n",
    "We'll need to set a **regularization parameter**.This is used to counter any bias in the sample, and help the model generalize well by avoiding overfitting the model to the training data."
   ]
  },
  {
   "cell_type": "code",
   "execution_count": 8,
   "id": "722e866f",
   "metadata": {},
   "outputs": [
    {
     "name": "stderr",
     "output_type": "stream",
     "text": [
      "C:\\Users\\User-Pc\\anaconda3\\lib\\site-packages\\sklearn\\utils\\validation.py:985: DataConversionWarning: A column-vector y was passed when a 1d array was expected. Please change the shape of y to (n_samples, ), for example using ravel().\n",
      "  y = column_or_1d(y, warn=True)\n"
     ]
    },
    {
     "name": "stdout",
     "output_type": "stream",
     "text": [
      "LogisticRegression(C=100.0, solver='liblinear')\n"
     ]
    }
   ],
   "source": [
    "# Train the model \n",
    "from sklearn.linear_model import LogisticRegression\n",
    "\n",
    "# Set regularization rate\n",
    "reg = 0.01\n",
    "\n",
    "# Train the logistic regression model on the training set\n",
    "model = LogisticRegression(C=1/reg,solver=\"liblinear\").fit(X_train,y_train)\n",
    "print(model)"
   ]
  },
  {
   "cell_type": "code",
   "execution_count": 9,
   "id": "42dcb58f",
   "metadata": {},
   "outputs": [
    {
     "name": "stdout",
     "output_type": "stream",
     "text": [
      "Predicted labels:  [0 0 0 ... 0 1 0]\n",
      "Actual labels: [[0]\n",
      " [0]\n",
      " [1]\n",
      " ...\n",
      " [1]\n",
      " [1]\n",
      " [1]]\n"
     ]
    }
   ],
   "source": [
    "# We'll can test the training set using the data w held back to evaluate how well it predicts.\n",
    "\n",
    "predictions = model.predict(X_test)\n",
    "print('Predicted labels: ',predictions)\n",
    "print('Actual labels:',y_test)"
   ]
  },
  {
   "cell_type": "code",
   "execution_count": 10,
   "id": "b32935fc",
   "metadata": {},
   "outputs": [
    {
     "name": "stdout",
     "output_type": "stream",
     "text": [
      "Accuracy: 0.7891111111111111\n"
     ]
    }
   ],
   "source": [
    "# scikit-learn provides some metrics that we can use to evaluate the model\n",
    "# We may need to check the accuracy of the predictions(what proportion of the labels did the model predict correctly?)\n",
    "\n",
    "from sklearn.metrics import accuracy_score\n",
    "\n",
    "print('Accuracy:',accuracy_score(y_test,predictions))"
   ]
  },
  {
   "cell_type": "markdown",
   "id": "2178af5d",
   "metadata": {},
   "source": [
    "The accuracy is returned as a decimal value- a value of 1.0 would mean that the model got 100% of the predictions right"
   ]
  },
  {
   "cell_type": "markdown",
   "id": "a8845529",
   "metadata": {},
   "source": [
    "We'll look at alternatives to accuracy that can be much more useful in machine learning"
   ]
  },
  {
   "cell_type": "code",
   "execution_count": 11,
   "id": "f1c7e220",
   "metadata": {},
   "outputs": [
    {
     "name": "stdout",
     "output_type": "stream",
     "text": [
      "              precision    recall  f1-score   support\n",
      "\n",
      "           0       0.81      0.88      0.85      2986\n",
      "           1       0.72      0.60      0.66      1514\n",
      "\n",
      "    accuracy                           0.79      4500\n",
      "   macro avg       0.77      0.74      0.75      4500\n",
      "weighted avg       0.78      0.79      0.78      4500\n",
      "\n"
     ]
    }
   ],
   "source": [
    "from sklearn.metrics import classification_report\n",
    "\n",
    "print(classification_report(y_test,predictions))"
   ]
  },
  {
   "cell_type": "markdown",
   "id": "340ca7bd",
   "metadata": {},
   "source": [
    "The classification report includes the following metrics for each class(0 and 1)\n",
    "\n",
    "- **Precision**.Of all the predictions the model made for this class,what proportion were correct?\n",
    "- **Recall**. Out of all of the instances of this class in the test dataset,how many did the model identify?\n",
    "- **F-1 Score**. An average metric that takes both precision and recall into account.\n",
    "- **Support**. How many instances of this class are there in the test dataset?\n",
    "\n",
    "The classification report also includes averages for these metrics, including a weighted average that allows for the imbalance in the number of cases of each class.\n",
    "\n",
    "Because this is a binary classification problem, the 1 class is considered positive and its precision and recall are particularly interesting-the in effect answer the questions:\n",
    "   - Of all the patients the model predicted are diabetic, how many are actually diabetic?\n",
    "   - Of all the patients that are actuall diabetic, how many did the model identify?\n",
    "\n",
    "\n",
    "    \n",
    "You can retrieve these values on thier own by using the **precision_score** and **recall_score** metrics in the scikit-learn(which by default assumes a binary classification model)\n"
   ]
  },
  {
   "cell_type": "code",
   "execution_count": 12,
   "id": "6f1c05c8",
   "metadata": {},
   "outputs": [
    {
     "name": "stdout",
     "output_type": "stream",
     "text": [
      "Overall Precision: 0.7240285487708168\n",
      "Overall Recall: 0.6030383091149274\n"
     ]
    }
   ],
   "source": [
    "from sklearn.metrics import precision_score,recall_score\n",
    "\n",
    "print(\"Overall Precision:\",precision_score(y_test,predictions))\n",
    "print(\"Overall Recall:\",recall_score(y_test,predictions))"
   ]
  },
  {
   "cell_type": "markdown",
   "id": "50352dbc",
   "metadata": {},
   "source": [
    "The precision and recall metrics are derived from four possible prediction outcome:\n",
    "   - True positives\n",
    "   - False Positives.Thepredicted label is 1,but the actual label is 0.\n",
    "   - False Negatives \n",
    "   - True Negatives \n",
    "    \n",
    "These metrics are generally tabulated for the test data nd shown together as a **confusion matrix**. The TN and TP should be ignificantly higher than the *false* predictions if the model is any good.\n",
    "\n",
    "We cam use the **sklearn.metrics.confusion_matrix** function to find these values for  trained classifier:"
   ]
  },
  {
   "cell_type": "code",
   "execution_count": 13,
   "id": "53f49c96",
   "metadata": {},
   "outputs": [
    {
     "name": "stdout",
     "output_type": "stream",
     "text": [
      "[[2638  348]\n",
      " [ 601  913]]\n"
     ]
    }
   ],
   "source": [
    "from sklearn.metrics import confusion_matrix\n",
    "\n",
    "# print the confusion matrix\n",
    "cm = confusion_matrix(y_test,predictions)\n",
    "print(cm)"
   ]
  },
  {
   "cell_type": "markdown",
   "id": "235eb2fa",
   "metadata": {},
   "source": [
    "A threshhold of 0.5 is used to decide whether the predicted label is a 1  or 0\n",
    "\n",
    "You can use the **predict_proba** method to see the probability pairs for each case:"
   ]
  },
  {
   "cell_type": "code",
   "execution_count": 14,
   "id": "96e0878d",
   "metadata": {},
   "outputs": [
    {
     "name": "stdout",
     "output_type": "stream",
     "text": [
      "[[0.81655964 0.18344036]\n",
      " [0.96289025 0.03710975]\n",
      " [0.80840197 0.19159803]\n",
      " ...\n",
      " [0.60686452 0.39313548]\n",
      " [0.10722398 0.89277602]\n",
      " [0.6392454  0.3607546 ]]\n"
     ]
    }
   ],
   "source": [
    "y_score = model.predict_proba(X_test)\n",
    "print(y_score)"
   ]
  },
  {
   "cell_type": "markdown",
   "id": "89763bd8",
   "metadata": {},
   "source": [
    "A common way to evaluate a classifier is to examine the *true positive rate*(which is another name for **recall**) and the *false positive rate* for a range of possible thresholds.\n",
    "\n",
    "These rates are the plotted against al possible thresholds to form a chart known as a **received operator characteristic(ROC)**chart"
   ]
  },
  {
   "cell_type": "code",
   "execution_count": 15,
   "id": "18cb979a",
   "metadata": {},
   "outputs": [
    {
     "data": {
      "image/png": "[encoded data removed]",
      "text/plain": [
       "<Figure size 432x432 with 1 Axes>"
      ]
     },
     "metadata": {
      "needs_background": "light"
     },
     "output_type": "display_data"
    }
   ],
   "source": [
    "from sklearn.metrics import roc_curve\n",
    "from sklearn.metrics import confusion_matrix\n",
    "import matplotlib\n",
    "import matplotlib.pyplot as plt\n",
    "%matplotlib inline\n",
    "\n",
    "# Calculate ROC curve\n",
    "fpr,tpr,thresholds = roc_curve(y_test,y_score[:,1])\n",
    "\n",
    "# plot ROC curve\n",
    "fig = plt.figure(figsize=(6,6))\n",
    "# Plot the diagnal line\n",
    "plt.plot([0,1],[0,1], 'k--')\n",
    "# Plot the FPR and TPR achieved by our model\n",
    "plt.plot(fpr,tpr)\n",
    "plt.xlabel('False Positive Rate')\n",
    "plt.ylabel('True Positive Rate')\n",
    "plt.title('ROC Curve')\n",
    "plt.show()"
   ]
  },
  {
   "cell_type": "markdown",
   "id": "425bf9eb",
   "metadata": {},
   "source": [
    "A perfect classifier would have a curve that goes straight up the left and straight across the top. The diagonal line across the chart represents the probability of predicting correctly with a 50/50 random prediction;so you obviously want the curve to be higher that that(or your model is no better than simply guessing)\n",
    "\n",
    "The area under the curve(AUC) is the value between 0 and 1 that quantifies the overall perfomance of the model. The closer o 1 this value is, the better the model.\n",
    "\n",
    "Scikit-learn includes a function to calculate this metric."
   ]
  },
  {
   "cell_type": "code",
   "execution_count": 16,
   "id": "905f48e5",
   "metadata": {},
   "outputs": [
    {
     "name": "stdout",
     "output_type": "stream",
     "text": [
      "AUC:0.8568568776704321\n"
     ]
    }
   ],
   "source": [
    "from sklearn.metrics import roc_auc_score\n",
    "\n",
    "auc = roc_auc_score(y_test,y_score[:,1])\n",
    "print('AUC:'+ str(auc))"
   ]
  },
  {
   "cell_type": "markdown",
   "id": "54d94837",
   "metadata": {},
   "source": [
    "### Perform preprocessing in a pipeline\n",
    "\n",
    "In practise, it's common to perform some preprocessing of the data to make it easier for the algorithm to fit a model to it.\n",
    "\n",
    "There's a huge range of preprocessing transormations you can perform to get your data ready for modelling. We'll limit ourself to a few common techniques:\n",
    "- Scaling numeric features\n",
    "- Encoding categorical variables."
   ]
  },
  {
   "cell_type": "code",
   "execution_count": 17,
   "id": "e8511165",
   "metadata": {},
   "outputs": [
    {
     "name": "stderr",
     "output_type": "stream",
     "text": [
      "C:\\Users\\User-Pc\\anaconda3\\lib\\site-packages\\sklearn\\utils\\validation.py:985: DataConversionWarning: A column-vector y was passed when a 1d array was expected. Please change the shape of y to (n_samples, ), for example using ravel().\n",
      "  y = column_or_1d(y, warn=True)\n"
     ]
    },
    {
     "name": "stdout",
     "output_type": "stream",
     "text": [
      "Pipeline(steps=[('preprocessor',\n",
      "                 ColumnTransformer(transformers=[('num',\n",
      "                                                  Pipeline(steps=[('scaler',\n",
      "                                                                   StandardScaler())]),\n",
      "                                                  [0, 1, 2, 3, 4, 5, 6]),\n",
      "                                                 ('cat',\n",
      "                                                  Pipeline(steps=[('onehot',\n",
      "                                                                   OneHotEncoder(handle_unknown='ignore'))]),\n",
      "                                                  [7])])),\n",
      "                ('logregressor',\n",
      "                 LogisticRegression(C=100.0, solver='liblinear'))])\n"
     ]
    }
   ],
   "source": [
    "# Train the model\n",
    "from sklearn.compose import ColumnTransformer\n",
    "from sklearn.pipeline import Pipeline\n",
    "from sklearn.preprocessing import StandardScaler, OneHotEncoder\n",
    "# from sklearn.linear_model import LogisticRegressin\n",
    "import numpy as np\n",
    "\n",
    "# Define preprocessing for numeric columns(normalize so that they are on the same scale)\n",
    "numeric_features = [0,1,2,3,4,5,6]\n",
    "numeric_transformer = Pipeline(steps=[\n",
    "    ('scaler',StandardScaler())])\n",
    "# Define preprocessing for categorical features(encode the Age column)\n",
    "categorical_features = [7]\n",
    "categorical_transformer = Pipeline(steps=[('onehot',OneHotEncoder(handle_unknown=\"ignore\"))])\n",
    "\n",
    "# Combine preprocessing steps\n",
    "preprocessor = ColumnTransformer(transformers=[\n",
    "     ('num',numeric_transformer,numeric_features),\n",
    "     ('cat',categorical_transformer,categorical_features)])\n",
    "# Create preprocessing and training pipeline\n",
    "pipeline = Pipeline(steps=[('preprocessor',preprocessor),\n",
    "                          ('logregressor',LogisticRegression(C=1/reg,solver=\"liblinear\"))])\n",
    "# fit the pipeline to train a logistic regression model on the training set\n",
    "model = pipeline.fit(X_train,(y_train))\n",
    "print(model)"
   ]
  },
  {
   "cell_type": "markdown",
   "id": "98a1313a",
   "metadata": {},
   "source": [
    "The pipeline encapsulates the preprocessing steps as well as model training.\n",
    "Let's use the model trained by this pipeline to predict labels for our test set, and compare the perfomance metrics with the basic model we created\n"
   ]
  },
  {
   "cell_type": "code",
   "execution_count": 18,
   "id": "3aad0b3d",
   "metadata": {},
   "outputs": [
    {
     "name": "stdout",
     "output_type": "stream",
     "text": [
      "Confusion Matrix:\n",
      " [[2667  319]\n",
      " [ 406 1108]] \n",
      "\n",
      "Accuracy: 0.8388888888888889\n",
      "Overall Precision: 0.7764540995094604\n",
      "Overall Recall: 0.7318361955085865\n",
      "AUC: 0.9202440539337693\n"
     ]
    },
    {
     "data": {
      "image/png": "[encoded data removed]",
      "text/plain": [
       "<Figure size 432x432 with 1 Axes>"
      ]
     },
     "metadata": {
      "needs_background": "light"
     },
     "output_type": "display_data"
    }
   ],
   "source": [
    "# Get predictions from test data\n",
    "predictions = model.predict(X_test)\n",
    "y_scores = model.predict_proba(X_test)\n",
    "\n",
    "# Get evaluation metrics\n",
    "cm = confusion_matrix(y_test, predictions)\n",
    "print ('Confusion Matrix:\\n',cm, '\\n')\n",
    "print('Accuracy:', accuracy_score(y_test, predictions))\n",
    "print(\"Overall Precision:\",precision_score(y_test, predictions))\n",
    "print(\"Overall Recall:\",recall_score(y_test, predictions))\n",
    "auc = roc_auc_score(y_test,y_scores[:,1])\n",
    "print('AUC: ' + str(auc))\n",
    "\n",
    "# calculate ROC curve\n",
    "fpr, tpr, thresholds = roc_curve(y_test, y_scores[:,1])\n",
    "\n",
    "# plot ROC curve\n",
    "fig = plt.figure(figsize=(6, 6))\n",
    "# Plot the diagonal 50% line\n",
    "plt.plot([0, 1], [0, 1], 'k--')\n",
    "# Plot the FPR and TPR achieved by our model\n",
    "plt.plot(fpr, tpr)\n",
    "plt.xlabel('False Positive Rate')\n",
    "plt.ylabel('True Positive Rate')\n",
    "plt.title('ROC Curve')\n",
    "plt.show()"
   ]
  },
  {
   "cell_type": "markdown",
   "id": "3ba5e158",
   "metadata": {},
   "source": [
    "### Try a different algorithm\n",
    "We've used a logistic regression algorithm, which is a linear algirithm.\n",
    "There are many kinds of classification algorithm, we could try including:\n",
    "- **Support Vector Machine algorithms**: Algorithms that define a hyperplane that separates classes.\n",
    "- **Tree-based algorithm**: Algorithm that builds tree to reach a prediction.\n",
    "- **Ensemble algorithms**: Algorithms that combine the outputs of multiple base algorithms to improve generalizability."
   ]
  },
  {
   "cell_type": "code",
   "execution_count": 19,
   "id": "790e59f6",
   "metadata": {},
   "outputs": [
    {
     "name": "stderr",
     "output_type": "stream",
     "text": [
      "C:\\Users\\User-Pc\\anaconda3\\lib\\site-packages\\sklearn\\pipeline.py:394: DataConversionWarning: A column-vector y was passed when a 1d array was expected. Please change the shape of y to (n_samples,), for example using ravel().\n",
      "  self._final_estimator.fit(Xt, y, **fit_params_last_step)\n"
     ]
    },
    {
     "name": "stdout",
     "output_type": "stream",
     "text": [
      "Pipeline(steps=[('preprocessor',\n",
      "                 ColumnTransformer(transformers=[('num',\n",
      "                                                  Pipeline(steps=[('scaler',\n",
      "                                                                   StandardScaler())]),\n",
      "                                                  [0, 1, 2, 3, 4, 5, 6]),\n",
      "                                                 ('cat',\n",
      "                                                  Pipeline(steps=[('onehot',\n",
      "                                                                   OneHotEncoder(handle_unknown='ignore'))]),\n",
      "                                                  [7])])),\n",
      "                ('logregressor', RandomForestClassifier())])\n"
     ]
    }
   ],
   "source": [
    "# We will use ensemble algorithm named Random Forest\n",
    "from sklearn.ensemble import RandomForestClassifier\n",
    "\n",
    "# Create preprocessing and training pipeline\n",
    "pipeline = Pipeline(steps=[('preprocessor',preprocessor),\n",
    "                          ('logregressor',RandomForestClassifier(n_estimators=100))])\n",
    "\n",
    "# Fit the pipeline to train a random forest model on the training set\n",
    "model = pipeline.fit(X_train,(y_train))\n",
    "print(model)"
   ]
  },
  {
   "cell_type": "code",
   "execution_count": 20,
   "id": "96b41d60",
   "metadata": {},
   "outputs": [
    {
     "name": "stdout",
     "output_type": "stream",
     "text": [
      "Confusion Matrix:\n",
      " [[2858  128]\n",
      " [ 182 1332]] \n",
      "\n",
      "Accuracy: 0.9311111111111111\n",
      "Overall Precision: 0.9123287671232877\n",
      "Overall Recall: 0.8797886393659181\n",
      "\n",
      "AUC: 0.9817177431271075\n"
     ]
    },
    {
     "data": {
      "image/png": "[encoded data removed]",
      "text/plain": [
       "<Figure size 432x432 with 1 Axes>"
      ]
     },
     "metadata": {
      "needs_background": "light"
     },
     "output_type": "display_data"
    }
   ],
   "source": [
    "# The perfomance of the new model\n",
    "predictions = model.predict(X_test)\n",
    "y_scores = model.predict_proba(X_test)\n",
    "cm = confusion_matrix(y_test, predictions)\n",
    "print ('Confusion Matrix:\\n',cm, '\\n')\n",
    "print('Accuracy:', accuracy_score(y_test, predictions))\n",
    "print(\"Overall Precision:\",precision_score(y_test, predictions))\n",
    "print(\"Overall Recall:\",recall_score(y_test, predictions))\n",
    "auc = roc_auc_score(y_test,y_scores[:,1])\n",
    "print('\\nAUC: ' + str(auc))\n",
    "\n",
    "# calculate ROC curve\n",
    "fpr, tpr, thresholds = roc_curve(y_test, y_scores[:,1])\n",
    "\n",
    "# plot ROC curve\n",
    "fig = plt.figure(figsize=(6, 6))\n",
    "# Plot the diagonal 50% line\n",
    "plt.plot([0, 1], [0, 1], 'k--')\n",
    "# Plot the FPR and TPR achieved by our model\n",
    "plt.plot(fpr, tpr)\n",
    "plt.xlabel('False Positive Rate')\n",
    "plt.ylabel('True Positive Rate')\n",
    "plt.title('ROC Curve')\n",
    "plt.show()"
   ]
  },
  {
   "cell_type": "markdown",
   "id": "fb38cd9b",
   "metadata": {},
   "source": [
    "#### Use the Model for Inferencing\n"
   ]
  },
  {
   "cell_type": "code",
   "execution_count": 21,
   "id": "0d71f047",
   "metadata": {},
   "outputs": [
    {
     "data": {
      "text/plain": [
       "['./diabetes_model.pkl']"
      ]
     },
     "execution_count": 21,
     "metadata": {},
     "output_type": "execute_result"
    }
   ],
   "source": [
    "import joblib\n",
    "\n",
    "# save the model as a pickle file\n",
    "filename = './diabetes_model.pkl'\n",
    "joblib.dump(model,filename)"
   ]
  },
  {
   "cell_type": "code",
   "execution_count": 22,
   "id": "4700015b",
   "metadata": {},
   "outputs": [
    {
     "name": "stdout",
     "output_type": "stream",
     "text": [
      "New sample: [2.0, 180.0, 74.0, 24.0, 21.0, 23.9091702, 1.488172308, 22.0]\n",
      "Predicted class is 1\n"
     ]
    }
   ],
   "source": [
    "# Load the model from the file\n",
    "model = joblib.load(filename)\n",
    "\n",
    "# predict on a new sample\n",
    "# The model accepts an array of feature arrays (so you can predict the classes of multiple patients in a single call)\n",
    "# We'll create an array with a single array of features, representing one patient\n",
    "X_new = np.array([[2,180,74,24,21,23.9091702,1.488172308,22]])\n",
    "print ('New sample: {}'.format(list(X_new[0])))\n",
    "\n",
    "# Get a prediction\n",
    "pred = model.predict(X_new)\n",
    "\n",
    "# The model returns an array of predictions - one for each set of features submitted\n",
    "# In our case, we only submitted one patient, so our prediction is the first one in the resulting array.\n",
    "print('Predicted class is {}'.format(pred[0]))"
   ]
  },
  {
   "cell_type": "markdown",
   "id": "b9f74a86",
   "metadata": {},
   "source": [
    "### Create a multiclass classification models\n",
    "\n",
    "Its where you predict more than two binary classes.\n",
    "\n",
    "Multiple class can be thought as a combination of multiple biary classifiers.There are two waysin which you can approach the problem:\n",
    " - **One vs Rest** ,  in which the classifier is created for each possible class value, with a positive outcome for the cases where where the prediction is this class, and negative predictions for the cases where the prediction is any other class.\n",
    " - **One vs One**, in which a classifier for each possible class is created.\n",
    "\n"
   ]
  },
  {
   "cell_type": "markdown",
   "id": "751a3cdb",
   "metadata": {},
   "source": [
    "### Train and evaluate multiclass classification models"
   ]
  },
  {
   "cell_type": "markdown",
   "id": "60d1d35a",
   "metadata": {},
   "source": [
    "#### Explore the data"
   ]
  },
  {
   "cell_type": "code",
   "execution_count": 24,
   "id": "06c2a402",
   "metadata": {},
   "outputs": [
    {
     "data": {
      "text/html": [
       "<div>\n",
       "<style scoped>\n",
       "    .dataframe tbody tr th:only-of-type {\n",
       "        vertical-align: middle;\n",
       "    }\n",
       "\n",
       "    .dataframe tbody tr th {\n",
       "        vertical-align: top;\n",
       "    }\n",
       "\n",
       "    .dataframe thead th {\n",
       "        text-align: right;\n",
       "    }\n",
       "</style>\n",
       "<table border=\"1\" class=\"dataframe\">\n",
       "  <thead>\n",
       "    <tr style=\"text-align: right;\">\n",
       "      <th></th>\n",
       "      <th>CulmenLength</th>\n",
       "      <th>CulmenDepth</th>\n",
       "      <th>FlipperLength</th>\n",
       "      <th>BodyMass</th>\n",
       "      <th>Species</th>\n",
       "    </tr>\n",
       "  </thead>\n",
       "  <tbody>\n",
       "    <tr>\n",
       "      <th>156</th>\n",
       "      <td>47.6</td>\n",
       "      <td>14.5</td>\n",
       "      <td>215.0</td>\n",
       "      <td>5400.0</td>\n",
       "      <td>1</td>\n",
       "    </tr>\n",
       "    <tr>\n",
       "      <th>309</th>\n",
       "      <td>51.0</td>\n",
       "      <td>18.8</td>\n",
       "      <td>203.0</td>\n",
       "      <td>4100.0</td>\n",
       "      <td>2</td>\n",
       "    </tr>\n",
       "    <tr>\n",
       "      <th>109</th>\n",
       "      <td>43.2</td>\n",
       "      <td>19.0</td>\n",
       "      <td>197.0</td>\n",
       "      <td>4775.0</td>\n",
       "      <td>0</td>\n",
       "    </tr>\n",
       "    <tr>\n",
       "      <th>328</th>\n",
       "      <td>45.7</td>\n",
       "      <td>17.3</td>\n",
       "      <td>193.0</td>\n",
       "      <td>3600.0</td>\n",
       "      <td>2</td>\n",
       "    </tr>\n",
       "    <tr>\n",
       "      <th>332</th>\n",
       "      <td>45.2</td>\n",
       "      <td>16.6</td>\n",
       "      <td>191.0</td>\n",
       "      <td>3250.0</td>\n",
       "      <td>2</td>\n",
       "    </tr>\n",
       "    <tr>\n",
       "      <th>54</th>\n",
       "      <td>34.5</td>\n",
       "      <td>18.1</td>\n",
       "      <td>187.0</td>\n",
       "      <td>2900.0</td>\n",
       "      <td>0</td>\n",
       "    </tr>\n",
       "    <tr>\n",
       "      <th>231</th>\n",
       "      <td>45.2</td>\n",
       "      <td>16.4</td>\n",
       "      <td>223.0</td>\n",
       "      <td>5950.0</td>\n",
       "      <td>1</td>\n",
       "    </tr>\n",
       "    <tr>\n",
       "      <th>81</th>\n",
       "      <td>42.9</td>\n",
       "      <td>17.6</td>\n",
       "      <td>196.0</td>\n",
       "      <td>4700.0</td>\n",
       "      <td>0</td>\n",
       "    </tr>\n",
       "    <tr>\n",
       "      <th>114</th>\n",
       "      <td>39.6</td>\n",
       "      <td>20.7</td>\n",
       "      <td>191.0</td>\n",
       "      <td>3900.0</td>\n",
       "      <td>0</td>\n",
       "    </tr>\n",
       "    <tr>\n",
       "      <th>163</th>\n",
       "      <td>49.0</td>\n",
       "      <td>16.1</td>\n",
       "      <td>216.0</td>\n",
       "      <td>5550.0</td>\n",
       "      <td>1</td>\n",
       "    </tr>\n",
       "  </tbody>\n",
       "</table>\n",
       "</div>"
      ],
      "text/plain": [
       "     CulmenLength  CulmenDepth  FlipperLength  BodyMass  Species\n",
       "156          47.6         14.5          215.0    5400.0        1\n",
       "309          51.0         18.8          203.0    4100.0        2\n",
       "109          43.2         19.0          197.0    4775.0        0\n",
       "328          45.7         17.3          193.0    3600.0        2\n",
       "332          45.2         16.6          191.0    3250.0        2\n",
       "54           34.5         18.1          187.0    2900.0        0\n",
       "231          45.2         16.4          223.0    5950.0        1\n",
       "81           42.9         17.6          196.0    4700.0        0\n",
       "114          39.6         20.7          191.0    3900.0        0\n",
       "163          49.0         16.1          216.0    5550.0        1"
      ]
     },
     "execution_count": 24,
     "metadata": {},
     "output_type": "execute_result"
    }
   ],
   "source": [
    "# # load the dataset \n",
    "penguins = pd.read_csv('penguins.csv')\n",
    "\n",
    "# Display a random sample of 10 observitions\n",
    "\n",
    "sample = penguins.sample(10)\n",
    "sample\n"
   ]
  },
  {
   "cell_type": "markdown",
   "id": "aa4bd74d",
   "metadata": {},
   "source": [
    "The species is the label that we want to predict. The dataset include three possible species, which are encoded as 0,1 and 2. The acrual species names are revealed by the code below:"
   ]
  },
  {
   "cell_type": "code",
   "execution_count": 25,
   "id": "b0322baa",
   "metadata": {},
   "outputs": [
    {
     "name": "stdout",
     "output_type": "stream",
     "text": [
      "Index(['CulmenLength', 'CulmenDepth', 'FlipperLength', 'BodyMass', 'Species'], dtype='object') SpeciesName\n",
      "[ 52.0 19.0 197.0 4150.0 2 ] Chinstrap\n",
      "[ 50.0 15.3 220.0 5550.0 1 ] Gentoo\n",
      "[ 50.8 19.0 210.0 4100.0 2 ] Chinstrap\n",
      "[ 48.1 16.4 199.0 3325.0 2 ] Chinstrap\n",
      "[ 46.4 15.6 221.0 5000.0 1 ] Gentoo\n",
      "[ 42.0 19.5 200.0 4050.0 0 ] Adelie\n",
      "[ 33.5 19.0 190.0 3600.0 0 ] Adelie\n",
      "[ 37.2 18.1 178.0 3900.0 0 ] Adelie\n",
      "[ 37.3 16.8 192.0 3000.0 0 ] Adelie\n",
      "[ 39.6 17.7 186.0 3500.0 0 ] Adelie\n"
     ]
    }
   ],
   "source": [
    "penguin_classes = ['Adelie','Gentoo','Chinstrap']\n",
    "print(sample.columns[0:5],'SpeciesName')\n",
    "for index,row in penguins.sample(10).iterrows():\n",
    "    print('[',row[0],row[1],row[2],row[3],int(row[4]),']',penguin_classes[int(row[4])])"
   ]
  },
  {
   "cell_type": "code",
   "execution_count": 27,
   "id": "d9c15e91",
   "metadata": {},
   "outputs": [
    {
     "data": {
      "text/plain": [
       "CulmenLength     2\n",
       "CulmenDepth      2\n",
       "FlipperLength    2\n",
       "BodyMass         2\n",
       "Species          0\n",
       "dtype: int64"
      ]
     },
     "execution_count": 27,
     "metadata": {},
     "output_type": "execute_result"
    }
   ],
   "source": [
    "# Count the number of missing values\n",
    "penguins.isnull().sum()"
   ]
  },
  {
   "cell_type": "code",
   "execution_count": 28,
   "id": "465f433a",
   "metadata": {},
   "outputs": [
    {
     "data": {
      "text/html": [
       "<div>\n",
       "<style scoped>\n",
       "    .dataframe tbody tr th:only-of-type {\n",
       "        vertical-align: middle;\n",
       "    }\n",
       "\n",
       "    .dataframe tbody tr th {\n",
       "        vertical-align: top;\n",
       "    }\n",
       "\n",
       "    .dataframe thead th {\n",
       "        text-align: right;\n",
       "    }\n",
       "</style>\n",
       "<table border=\"1\" class=\"dataframe\">\n",
       "  <thead>\n",
       "    <tr style=\"text-align: right;\">\n",
       "      <th></th>\n",
       "      <th>CulmenLength</th>\n",
       "      <th>CulmenDepth</th>\n",
       "      <th>FlipperLength</th>\n",
       "      <th>BodyMass</th>\n",
       "      <th>Species</th>\n",
       "    </tr>\n",
       "  </thead>\n",
       "  <tbody>\n",
       "    <tr>\n",
       "      <th>3</th>\n",
       "      <td>NaN</td>\n",
       "      <td>NaN</td>\n",
       "      <td>NaN</td>\n",
       "      <td>NaN</td>\n",
       "      <td>0</td>\n",
       "    </tr>\n",
       "    <tr>\n",
       "      <th>271</th>\n",
       "      <td>NaN</td>\n",
       "      <td>NaN</td>\n",
       "      <td>NaN</td>\n",
       "      <td>NaN</td>\n",
       "      <td>1</td>\n",
       "    </tr>\n",
       "  </tbody>\n",
       "</table>\n",
       "</div>"
      ],
      "text/plain": [
       "     CulmenLength  CulmenDepth  FlipperLength  BodyMass  Species\n",
       "3             NaN          NaN            NaN       NaN        0\n",
       "271           NaN          NaN            NaN       NaN        1"
      ]
     },
     "execution_count": 28,
     "metadata": {},
     "output_type": "execute_result"
    }
   ],
   "source": [
    "# Show the rows containing missing values\n",
    "penguins[penguins.isnull().any(axis=1)]"
   ]
  },
  {
   "cell_type": "code",
   "execution_count": 29,
   "id": "f776bc38",
   "metadata": {},
   "outputs": [
    {
     "data": {
      "text/plain": [
       "CulmenLength     0\n",
       "CulmenDepth      0\n",
       "FlipperLength    0\n",
       "BodyMass         0\n",
       "Species          0\n",
       "dtype: int64"
      ]
     },
     "execution_count": 29,
     "metadata": {},
     "output_type": "execute_result"
    }
   ],
   "source": [
    "# Drop the rows containing missing values\n",
    "penguins = penguins.dropna()\n",
    "\n",
    "# Confirm there are now no nulls\n",
    "penguins.isnull().sum()"
   ]
  },
  {
   "cell_type": "code",
   "execution_count": 31,
   "id": "65de0ef2",
   "metadata": {},
   "outputs": [
    {
     "data": {
      "image/png": "[encoded data removed]",
      "text/plain": [
       "<Figure size 432x432 with 1 Axes>"
      ]
     },
     "metadata": {
      "needs_background": "light"
     },
     "output_type": "display_data"
    },
    {
     "data": {
      "image/png": "[encoded data removed]",
      "text/plain": [
       "<Figure size 432x432 with 1 Axes>"
      ]
     },
     "metadata": {
      "needs_background": "light"
     },
     "output_type": "display_data"
    },
    {
     "data": {
      "image/png": "[encoded data removed]",
      "text/plain": [
       "<Figure size 432x432 with 1 Axes>"
      ]
     },
     "metadata": {
      "needs_background": "light"
     },
     "output_type": "display_data"
    },
    {
     "data": {
      "image/png": "[encoded data removed]",
      "text/plain": [
       "<Figure size 432x432 with 1 Axes>"
      ]
     },
     "metadata": {
      "needs_background": "light"
     },
     "output_type": "display_data"
    }
   ],
   "source": [
    "# Lets explore how the features relate to the labe; by creating some box charts\n",
    "from matplotlib import pyplot as plt\n",
    "%matplotlib inline\n",
    "\n",
    "penguin_features = ['CulmenLength','CulmenDepth','FlipperLength','BodyMass']\n",
    "penguin_label = ['Species']\n",
    "for col in penguin_features:\n",
    "    penguins.boxplot(column = col,by = penguin_label,figsize =(6,6))\n",
    "    plt.title(col)\n",
    "plt.show()\n",
    "\n",
    "\n",
    "# Fromthe box plots, it looks like species  and 2(Adelie and Chinstrap) have similar data profiles for culmen depth,fipper length,and body mass,but Chinstraps tend to have longer culmens. Species 1(Gentoo) tend to have fairly clearly differentiated features from the other; which should help us train a classification model.\n"
   ]
  },
  {
   "cell_type": "markdown",
   "id": "c0284942",
   "metadata": {},
   "source": [
    "#### Prepare the data\n",
    "We separate the features and labels, and then split the data into subsets for training and validation.\n",
    "We'll also apply a **stratification technique** when splitting the data to maintain the proportion of each label value in the training and validation datasets."
   ]
  },
  {
   "cell_type": "code",
   "execution_count": 35,
   "id": "1df923a4",
   "metadata": {},
   "outputs": [
    {
     "name": "stdout",
     "output_type": "stream",
     "text": [
      "Training Set:239,Test Set:103 \n",
      "\n"
     ]
    }
   ],
   "source": [
    "from sklearn.model_selection import train_test_split\n",
    "\n",
    "# Separate features and labels\n",
    "penguins_X,penguins_y = penguins[penguin_features].values,penguins[penguin_label].values\n",
    "\n",
    "# Split data 70%-30% into training set and test set \n",
    "\n",
    "x_penguin_train,x_penguin_test,y_penguin_train,y_penguin_test = train_test_split(penguins_X,penguins_y,\n",
    "                                                                                test_size = 0.30,stratify=penguins_y,random_state = 0)\n",
    "print('Training Set:%d,Test Set:%d \\n'%(x_penguin_train.shape[0],x_penguin_test.shape[0]))                                                                               \n",
    "                                                                                \n"
   ]
  },
  {
   "cell_type": "markdown",
   "id": "3a7a81c0",
   "metadata": {},
   "source": [
    "##### Train and evaluate a multiclass classifier\n",
    "We'll try a logistic regression algorithm"
   ]
  },
  {
   "cell_type": "code",
   "execution_count": 36,
   "id": "cbe5d0a9",
   "metadata": {},
   "outputs": [
    {
     "name": "stderr",
     "output_type": "stream",
     "text": [
      "C:\\Users\\User-Pc\\anaconda3\\lib\\site-packages\\sklearn\\utils\\validation.py:985: DataConversionWarning: A column-vector y was passed when a 1d array was expected. Please change the shape of y to (n_samples, ), for example using ravel().\n",
      "  y = column_or_1d(y, warn=True)\n"
     ]
    },
    {
     "name": "stdout",
     "output_type": "stream",
     "text": [
      "LogisticRegression(C=10.0, max_iter=1000)\n"
     ]
    }
   ],
   "source": [
    "from sklearn.linear_model import LogisticRegression\n",
    "\n",
    "# Set regularization rate\n",
    "reg = 0.1\n",
    "\n",
    "# train a logistic regression on the training set\n",
    "multi_model = LogisticRegression(C=1/reg,solver = 'lbfgs',multi_class='auto',max_iter=1000).fit(x_penguin_train,y_penguin_train)\n",
    "print(multi_model)"
   ]
  },
  {
   "cell_type": "raw",
   "id": "a16f4a3b",
   "metadata": {},
   "source": [
    "# Now we can use the trained model on the training set,and compare the predicted label to the actual labels:\n",
    "\n",
    "penguin_predictions = multi_model.predict(x_penguin_test)\n",
    "print('Predicted labels:',penguin_predictions[:15])\n",
    "print('Actual labels:',y_penguin_test[:15])"
   ]
  },
  {
   "cell_type": "code",
   "execution_count": 40,
   "id": "4bd1fad1",
   "metadata": {},
   "outputs": [
    {
     "name": "stdout",
     "output_type": "stream",
     "text": [
      "              precision    recall  f1-score   support\n",
      "\n",
      "           0       0.96      0.98      0.97        45\n",
      "           1       1.00      1.00      1.00        37\n",
      "           2       0.95      0.90      0.93        21\n",
      "\n",
      "    accuracy                           0.97       103\n",
      "   macro avg       0.97      0.96      0.96       103\n",
      "weighted avg       0.97      0.97      0.97       103\n",
      "\n"
     ]
    }
   ],
   "source": [
    "# Lets look at the classification report\n",
    "from sklearn.metrics import classification_report\n",
    "print(classification_report(y_penguin_test,penguin_predictions))"
   ]
  },
  {
   "cell_type": "markdown",
   "id": "8dc7d7bc",
   "metadata": {},
   "source": [
    "As with binary classification,the report includes precision and recall metrics for each class, while in binary classification we would focus on the scores for the positive class; in this case, there are multiple classes so we need to look at an overall metric(either the macro or weghted average) to get a sense of how well the model performs across all three classes.\n",
    "\n",
    "You cam get the overall metric separately from the report using the **scikit-learn metrics score classes**, but with multiclass results you must specify which avarage metric you use for precision and recall."
   ]
  },
  {
   "cell_type": "code",
   "execution_count": 44,
   "id": "ca06523a",
   "metadata": {},
   "outputs": [
    {
     "name": "stdout",
     "output_type": "stream",
     "text": [
      "Overall Accuracy: 0.970873786407767\n",
      "Overall Precision: 0.9688405797101449\n",
      "Overall Recall: 0.970873786407767\n"
     ]
    }
   ],
   "source": [
    "from sklearn.metrics import accuracy_score,precision_score,recall_score\n",
    "\n",
    "print('Overall Accuracy:',accuracy_score(y_penguin_test,penguin_predictions))\n",
    "print('Overall Precision:',precision_score(y_penguin_test,penguin_predictions,average='macro'))\n",
    "print('Overall Recall:',recall_score(y_penguin_test,penguin_predictions,average='micro'))"
   ]
  },
  {
   "cell_type": "code",
   "execution_count": 48,
   "id": "5801b4c4",
   "metadata": {},
   "outputs": [
    {
     "name": "stdout",
     "output_type": "stream",
     "text": [
      "[[44  0  1]\n",
      " [ 0 37  0]\n",
      " [ 2  0 19]]\n"
     ]
    }
   ],
   "source": [
    "# Lets look at the confusion matrix for our model\n",
    "from sklearn.metrics import confusion_matrix\n",
    "\n",
    "# Print the confusion matrix\n",
    "mcm = confusion_matrix(y_penguin_test,penguin_predictions)\n",
    "print(mcm)\n",
    "\n",
    "# The diagnal intersections from top-left to bottom-right indicate the number of correct predictions."
   ]
  },
  {
   "cell_type": "code",
   "execution_count": 49,
   "id": "3f38e403",
   "metadata": {},
   "outputs": [
    {
     "data": {
      "image/png": "[encoded data removed]",
      "text/plain": [
       "<Figure size 432x288 with 2 Axes>"
      ]
     },
     "metadata": {
      "needs_background": "light"
     },
     "output_type": "display_data"
    }
   ],
   "source": [
    "# When dealing with multiple classes,it's generally more intuative to visualize this as a heat map\n",
    "\n",
    "import numpy as np\n",
    "import matplotlib.pyplot as plt\n",
    "%matplotlib inline\n",
    "\n",
    "plt.imshow(mcm,interpolation='nearest',cmap=plt.cm.Blues)\n",
    "plt.colorbar()\n",
    "tick_marks = np.arange(len(penguin_classes))\n",
    "plt.xticks(tick_marks,penguin_classes,rotation = 45)\n",
    "plt.yticks(tick_marks,penguin_classes)\n",
    "plt.xlabel('Predicted Species')\n",
    "plt.ylabel('Actual Species')\n",
    "plt.show()"
   ]
  },
  {
   "cell_type": "markdown",
   "id": "b84acd39",
   "metadata": {},
   "source": [
    "In the case for a multiclass classification model, a single ROC curve showing true positives rate vs false positive rate is not possible. However,you can use the rates for each class in a One vs Rest(OVR) comparison to create a ROC chart for each class."
   ]
  },
  {
   "cell_type": "code",
   "execution_count": 54,
   "id": "779c191d",
   "metadata": {},
   "outputs": [
    {
     "data": {
      "image/png": "[encoded data removed]",
      "text/plain": [
       "<Figure size 432x288 with 1 Axes>"
      ]
     },
     "metadata": {
      "needs_background": "light"
     },
     "output_type": "display_data"
    }
   ],
   "source": [
    "from sklearn.metrics import roc_curve\n",
    "from sklearn.metrics import roc_auc_score\n",
    "\n",
    "# Get class probability scores\n",
    "penguin_prob = multi_model.predict_proba(x_penguin_test)\n",
    "\n",
    "# Get ROC metrics for each class\n",
    "fpr = {}\n",
    "tpr = {}\n",
    "thresh = {}\n",
    "for i in range(len(penguin_classes)):\n",
    "    fpr[i],tpr[i],thresh[i] = roc_curve(y_penguin_test,penguin_prob[:,i],pos_label=i)\n",
    "# Plot the ROC chart\n",
    "plt.plot(fpr[0],tpr[0],linestyle='--',color='orange',label=penguin_classes[0]+'vs Rest')\n",
    "plt.plot(fpr[1],tpr[1],linestyle='--',color = 'green',label=penguin_classes[1]+'vs Rest')\n",
    "plt.plot(fpr[2],tpr[2],linestyle='--',color = 'blue',label=penguin_classes[2]+'vs Rest')\n",
    "plt.title('Multiclass ROC curve')\n",
    "plt.xlabel('False Positive Rate')\n",
    "plt.ylabel('True Positive Rate')\n",
    "plt.legend(loc='best')\n",
    "plt.show()\n",
    "           "
   ]
  },
  {
   "cell_type": "markdown",
   "id": "f2289b02",
   "metadata": {},
   "source": [
    "To quantify the ROC perfomance, you can calculate an aggregate area under the curve score that is averaged across all the OVR curves."
   ]
  },
  {
   "cell_type": "code",
   "execution_count": 55,
   "id": "4e6fc2f8",
   "metadata": {},
   "outputs": [
    {
     "name": "stdout",
     "output_type": "stream",
     "text": [
      "Average AUC: 0.9981999902100828\n"
     ]
    }
   ],
   "source": [
    "auc = roc_auc_score(y_penguin_test,penguin_prob,multi_class='ovr')\n",
    "print('Average AUC:',auc)"
   ]
  },
  {
   "cell_type": "markdown",
   "id": "2a75c3ec",
   "metadata": {},
   "source": [
    "### Preprocess data in a pipeline\n",
    "Let's see if we can improve the penguin predictor by sclaing the numeric features in a transformation step before training.\n",
    "\n",
    "We will also try a different algorithm(**a support vector machine**)"
   ]
  },
  {
   "cell_type": "code",
   "execution_count": 57,
   "id": "af39025d",
   "metadata": {},
   "outputs": [
    {
     "name": "stdout",
     "output_type": "stream",
     "text": [
      "Pipeline(steps=[('preprocessor',\n",
      "                 ColumnTransformer(transformers=[('preprocess',\n",
      "                                                  Pipeline(steps=[('scaler',\n",
      "                                                                   StandardScaler())]),\n",
      "                                                  [0, 1, 2, 3])])),\n",
      "                ('regressor', SVC(probability=True))])\n"
     ]
    },
    {
     "name": "stderr",
     "output_type": "stream",
     "text": [
      "C:\\Users\\User-Pc\\anaconda3\\lib\\site-packages\\sklearn\\utils\\validation.py:985: DataConversionWarning: A column-vector y was passed when a 1d array was expected. Please change the shape of y to (n_samples, ), for example using ravel().\n",
      "  y = column_or_1d(y, warn=True)\n"
     ]
    }
   ],
   "source": [
    "from sklearn.preprocessing import StandardScaler\n",
    "from sklearn.compose import ColumnTransformer\n",
    "from sklearn.pipeline import Pipeline\n",
    "from sklearn.svm import SVC\n",
    "\n",
    "# Define preprocessing for numeric features \n",
    "feature_columns = [0,1,2,3]\n",
    "feature_transformer = Pipeline(steps=[('scaler',StandardScaler())])\n",
    "\n",
    "# Create preprocessing steps\n",
    "preprocessor = ColumnTransformer(transformers=[('preprocess',feature_transformer,feature_columns)])\n",
    "\n",
    "# Create a training pipeline\n",
    "pipeline = Pipeline(steps=[('preprocessor',preprocessor),\n",
    "                          ('regressor',SVC(probability=True))])\n",
    "# Fit the pipeline to train the model on the training set\n",
    "multi_model = pipeline.fit(x_penguin_train,y_penguin_train)\n",
    "print(multi_model)"
   ]
  },
  {
   "cell_type": "code",
   "execution_count": 58,
   "id": "a6263eb2",
   "metadata": {},
   "outputs": [
    {
     "name": "stdout",
     "output_type": "stream",
     "text": [
      "Overall Accuracy: 0.9805825242718447\n",
      "Overall Precision: 0.9767195767195768\n",
      "Overall Recall: 0.9767195767195768\n",
      "Average AUC: 0.9990361381446328\n"
     ]
    },
    {
     "data": {
      "image/png": "[encoded data removed]",
      "text/plain": [
       "<Figure size 432x288 with 2 Axes>"
      ]
     },
     "metadata": {
      "needs_background": "light"
     },
     "output_type": "display_data"
    }
   ],
   "source": [
    "# We can now evaluate our model\n",
    "# Get predictions from test data\n",
    "penguin_predictions = multi_model.predict(x_penguin_test)\n",
    "penguin_prob = multi_model.predict_proba(x_penguin_test)\n",
    "\n",
    "# Overall metrics\n",
    "print(\"Overall Accuracy:\",accuracy_score(y_penguin_test, penguin_predictions))\n",
    "print(\"Overall Precision:\",precision_score(y_penguin_test, penguin_predictions, average='macro'))\n",
    "print(\"Overall Recall:\",recall_score(y_penguin_test, penguin_predictions, average='macro'))\n",
    "print('Average AUC:', roc_auc_score(y_penguin_test,penguin_prob, multi_class='ovr'))\n",
    "\n",
    "# Confusion matrix\n",
    "plt.imshow(mcm, interpolation=\"nearest\", cmap=plt.cm.Blues)\n",
    "plt.colorbar()\n",
    "tick_marks = np.arange(len(penguin_classes))\n",
    "plt.xticks(tick_marks, penguin_classes, rotation=45)\n",
    "plt.yticks(tick_marks, penguin_classes)\n",
    "plt.xlabel(\"Predicted Species\")\n",
    "plt.ylabel(\"Actual Species\")\n",
    "plt.show()"
   ]
  },
  {
   "cell_type": "markdown",
   "id": "aa3a2939",
   "metadata": {},
   "source": [
    "#### Use the model with new data observations\n",
    "\n",
    "\n"
   ]
  },
  {
   "cell_type": "code",
   "execution_count": 59,
   "id": "3602ef72",
   "metadata": {},
   "outputs": [
    {
     "data": {
      "text/plain": [
       "['./pemguin_model.pkl']"
      ]
     },
     "execution_count": 59,
     "metadata": {},
     "output_type": "execute_result"
    }
   ],
   "source": [
    "# we will fisrt save the model as a pickle file\n",
    "filename = './pemguin_model.pkl'\n",
    "joblib.dump(multi_model,filename)"
   ]
  },
  {
   "cell_type": "code",
   "execution_count": 60,
   "id": "3f9633a4",
   "metadata": {},
   "outputs": [
    {
     "name": "stdout",
     "output_type": "stream",
     "text": [
      "New sample: [  50.4   15.3  224.  5550. ]\n",
      "Predicted class is Gentoo\n"
     ]
    }
   ],
   "source": [
    "# Load the model from the file\n",
    "multi_model = joblib.load(filename)\n",
    "\n",
    "# The model accepts an array of feature arrays (so you can predict the classes of multiple penguin observations in a single call)\n",
    "# We'll create an array with a single array of features, representing one penguin\n",
    "x_new = np.array([[50.4,15.3,224,5550]])\n",
    "print ('New sample: {}'.format(x_new[0]))\n",
    "\n",
    "# The model returns an array of predictions - one for each set of features submitted\n",
    "# In our case, we only submitted one penguin, so our prediction is the first one in the resulting array.\n",
    "penguin_pred = multi_model.predict(x_new)[0]\n",
    "print('Predicted class is', penguin_classes[penguin_pred])"
   ]
  },
  {
   "cell_type": "code",
   "execution_count": 61,
   "id": "9b956f15",
   "metadata": {},
   "outputs": [
    {
     "name": "stdout",
     "output_type": "stream",
     "text": [
      "New samples:\n",
      "[[  49.5   18.4  195.  3600. ]\n",
      " [  38.2   20.1  190.  3900. ]]\n",
      "2 (Chinstrap)\n",
      "0 (Adelie)\n"
     ]
    }
   ],
   "source": [
    "# This time our input is an array of two feature arrays\n",
    "x_new = np.array([[49.5,18.4,195, 3600],\n",
    "         [38.2,20.1,190,3900]])\n",
    "print ('New samples:\\n{}'.format(x_new))\n",
    "\n",
    "# Call the web service, passing the input data\n",
    "predictions = multi_model.predict(x_new)\n",
    "\n",
    "# Get the predicted classes.\n",
    "for prediction in predictions:\n",
    "    print(prediction, '(' + penguin_classes[prediction] +')')"
   ]
  },
  {
   "cell_type": "code",
   "execution_count": null,
   "id": "02ef88eb",
   "metadata": {},
   "outputs": [],
   "source": []
  }
 ],
 "metadata": {
  "kernelspec": {
   "display_name": "Python 3",
   "language": "python",
   "name": "python3"
  },
  "language_info": {
   "codemirror_mode": {
    "name": "ipython",
    "version": 3
   },
   "file_extension": ".py",
   "mimetype": "text/x-python",
   "name": "python",
   "nbconvert_exporter": "python",
   "pygments_lexer": "ipython3",
   "version": "3.8.8"
  }
 },
 "nbformat": 4,
 "nbformat_minor": 5
}
